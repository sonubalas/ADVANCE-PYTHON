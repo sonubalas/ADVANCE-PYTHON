{
 "cells": [
  {
   "cell_type": "code",
   "execution_count": 5,
   "id": "590f4bfa-6fc2-409d-b28e-3a2ca74530f2",
   "metadata": {},
   "outputs": [],
   "source": [
    "import numpy as np"
   ]
  },
  {
   "cell_type": "code",
   "execution_count": 13,
   "id": "a3f4c1a5-dbbd-43a6-b2e9-f54adf3e6154",
   "metadata": {},
   "outputs": [
    {
     "name": "stdin",
     "output_type": "stream",
     "text": [
      "enter the size 2\n",
      "enter the value 23\n",
      "enter the value 34\n"
     ]
    },
    {
     "data": {
      "text/plain": [
       "array([23, 34])"
      ]
     },
     "execution_count": 13,
     "metadata": {},
     "output_type": "execute_result"
    }
   ],
   "source": [
    "# how we can create a user define array\n",
    "a=[]\n",
    "size=int(input(\"enter the size\"))\n",
    "for i in range(size):\n",
    "    value=int(input(\"enter the value\"))\n",
    "    a.append(value)\n",
    "b=np.array(a)\n",
    "b"
   ]
  },
  {
   "cell_type": "code",
   "execution_count": 59,
   "id": "e0f17a90-4668-4980-8024-1a7de4366341",
   "metadata": {},
   "outputs": [
    {
     "name": "stdout",
     "output_type": "stream",
     "text": [
      "<class 'list'>\n"
     ]
    },
    {
     "data": {
      "text/plain": [
       "array([[ 12,  34,  45],\n",
       "       [655, 676, 343],\n",
       "       [333,  56,  67]])"
      ]
     },
     "execution_count": 59,
     "metadata": {},
     "output_type": "execute_result"
    }
   ],
   "source": [
    "a=[[12,34,45],[655,676,343,],[333,56,67]]\n",
    "(a)\n",
    "print(type(a))\n",
    "b=np.array(a)\n",
    "b\n"
   ]
  },
  {
   "cell_type": "code",
   "execution_count": 75,
   "id": "1594a314-ebd1-43ed-ae3a-e53559f0b592",
   "metadata": {},
   "outputs": [
    {
     "data": {
      "text/plain": [
       "array([[0., 0., 0.],\n",
       "       [0., 0., 0.]])"
      ]
     },
     "execution_count": 75,
     "metadata": {},
     "output_type": "execute_result"
    }
   ],
   "source": [
    "# numpy function\n",
    "\n",
    "# 1  ->> zeros -> it will creaste an array in which all the values are zero.\n",
    "\n",
    "a=np.zeros((2,3))\n",
    "a\n",
    "\n",
    "\n",
    "\n"
   ]
  },
  {
   "cell_type": "code",
   "execution_count": 7,
   "id": "0707306d-6a17-4f64-82e7-097b5e7ef269",
   "metadata": {},
   "outputs": [
    {
     "data": {
      "text/plain": [
       "array([[1., 1., 1., 1.],\n",
       "       [1., 1., 1., 1.],\n",
       "       [1., 1., 1., 1.]])"
      ]
     },
     "execution_count": 7,
     "metadata": {},
     "output_type": "execute_result"
    }
   ],
   "source": [
    "# 2,-> once method  ->> it will create an array in  which all the values aarre one\n",
    "\n",
    "a=np.ones((3,4))\n",
    "a\n",
    " "
   ]
  },
  {
   "cell_type": "markdown",
   "id": "6e6b33ce-a5da-4eb4-9531-0d2ddd6974a4",
   "metadata": {},
   "source": [
    "<!-- 3-->> eye() --> -->it will create an array in which diagonal positional elements are 1 and rest all are 0.\n",
    "\n",
    " \n",
    "a=np.eye(3)\n",
    "a"
   ]
  },
  {
   "cell_type": "code",
   "execution_count": 105,
   "id": "69512995-c998-4474-adb4-72da0d5345a6",
   "metadata": {},
   "outputs": [
    {
     "data": {
      "text/plain": [
       "array([[1., 0., 0.],\n",
       "       [0., 1., 0.],\n",
       "       [0., 0., 1.]])"
      ]
     },
     "execution_count": 105,
     "metadata": {},
     "output_type": "execute_result"
    }
   ],
   "source": [
    "a=np.eye(3)    # asymetric matrix\n",
    "a"
   ]
  },
  {
   "cell_type": "code",
   "execution_count": 91,
   "id": "fe43ce1f-a9f9-4e96-a3ad-a0e82be1bfd3",
   "metadata": {},
   "outputs": [
    {
     "data": {
      "text/plain": [
       "array([[1., 0., 0.],\n",
       "       [0., 1., 0.],\n",
       "       [0., 0., 1.]])"
      ]
     },
     "execution_count": 91,
     "metadata": {},
     "output_type": "execute_result"
    }
   ],
   "source": [
    "a=np.eye(3)    # asymetric matrix\n",
    "a"
   ]
  },
  {
   "cell_type": "code",
   "execution_count": 95,
   "id": "6c90481b-7218-44da-8762-427dadc09df3",
   "metadata": {},
   "outputs": [
    {
     "data": {
      "text/plain": [
       "array([[1., 0., 0., 0.],\n",
       "       [0., 1., 0., 0.],\n",
       "       [0., 0., 1., 0.]])"
      ]
     },
     "execution_count": 95,
     "metadata": {},
     "output_type": "execute_result"
    }
   ],
   "source": [
    "a=np.eye(3,4)    # symetric matrix\n",
    "a"
   ]
  },
  {
   "cell_type": "code",
   "execution_count": 101,
   "id": "a0342e5d-17d8-4fed-bb24-0879b4ff9463",
   "metadata": {},
   "outputs": [
    {
     "data": {
      "text/plain": [
       "array([[  1,   0,   0,   0],\n",
       "       [  0,  56,   0,   0],\n",
       "       [  0,   0,  89,   0],\n",
       "       [  0,   0,   0, 700]])"
      ]
     },
     "execution_count": 101,
     "metadata": {},
     "output_type": "execute_result"
    }
   ],
   "source": [
    "# 4.--> diag()  -->> it will create an array in whixh we can customizd our diagonal positional element\n",
    "\n",
    "a=np.diag([1,56,89,700])\n",
    "a"
   ]
  },
  {
   "cell_type": "code",
   "execution_count": 103,
   "id": "a3acd208-9a8b-493e-a7d5-8a79cf2e80b2",
   "metadata": {},
   "outputs": [],
   "source": [
    "# 5 --> random module-->\n",
    "# a ->ot[ generation\n",
    "# b --> dataset -> 1 dummy column add\n",
    "# c ->> randomly weights initialize"
   ]
  },
  {
   "cell_type": "code",
   "execution_count": null,
   "id": "a6ec3621-9fc6-491c-8f16-29ca5cbb543f",
   "metadata": {},
   "outputs": [],
   "source": []
  },
  {
   "cell_type": "code",
   "execution_count": 119,
   "id": "4e009610-b5b6-44aa-a66f-3e9f90991a61",
   "metadata": {},
   "outputs": [
    {
     "data": {
      "text/plain": [
       "array([ 8, 11,  7, 18])"
      ]
     },
     "execution_count": 119,
     "metadata": {},
     "output_type": "execute_result"
    }
   ],
   "source": [
    "b=np.random.randint(1,20,4)\n",
    "b"
   ]
  },
  {
   "cell_type": "code",
   "execution_count": 125,
   "id": "323688c3-b8b4-4144-b985-132184c0c7a4",
   "metadata": {},
   "outputs": [
    {
     "data": {
      "text/plain": [
       "array([ 1.55961062, -1.39122022,  0.26953296])"
      ]
     },
     "execution_count": 125,
     "metadata": {},
     "output_type": "execute_result"
    }
   ],
   "source": [
    "b=np.random.randn(3)\n",
    "b"
   ]
  },
  {
   "cell_type": "code",
   "execution_count": 129,
   "id": "0c98be94-2b3d-49b4-80f0-f52f749c957b",
   "metadata": {},
   "outputs": [
    {
     "data": {
      "text/plain": [
       "array([0.8178289 , 0.17179525, 0.35456781, 0.5775054 ])"
      ]
     },
     "execution_count": 129,
     "metadata": {},
     "output_type": "execute_result"
    }
   ],
   "source": [
    "b=np.random.rand(4) \n",
    "b"
   ]
  },
  {
   "cell_type": "code",
   "execution_count": 167,
   "id": "ffae86ef-f28b-48a2-9d2e-4831e2ccce26",
   "metadata": {},
   "outputs": [
    {
     "data": {
      "text/plain": [
       "array([33, 12, 34, 31,  5])"
      ]
     },
     "execution_count": 167,
     "metadata": {},
     "output_type": "execute_result"
    }
   ],
   "source": [
    "np.random.seed(50)\n",
    "b=np.random.randint(1,45,5)\n",
    "b"
   ]
  },
  {
   "cell_type": "code",
   "execution_count": 177,
   "id": "d087ab9c-23f5-4aa3-bb16-12a3f295ce00",
   "metadata": {},
   "outputs": [
    {
     "name": "stdin",
     "output_type": "stream",
     "text": [
      "enter the valye 2\n",
      "enter the number 12\n",
      "enter the number 23\n"
     ]
    },
    {
     "data": {
      "text/plain": [
       "array([12, 23])"
      ]
     },
     "execution_count": 177,
     "metadata": {},
     "output_type": "execute_result"
    }
   ],
   "source": [
    "# how we can create a user define array\n",
    "\n",
    "a=[]\n",
    "value=int(input(\"enter the valye\"))\n",
    "for i in range(value):\n",
    "    size=int(input(\"enter the number\"))\n",
    "    a.append(size)\n",
    "b=np.array(a)\n",
    "b"
   ]
  },
  {
   "cell_type": "code",
   "execution_count": 189,
   "id": "de6753a6-512c-44c2-830d-50dca0d2b034",
   "metadata": {},
   "outputs": [
    {
     "data": {
      "text/plain": [
       "numpy.ndarray"
      ]
     },
     "execution_count": 189,
     "metadata": {},
     "output_type": "execute_result"
    }
   ],
   "source": [
    "type(b)\n"
   ]
  },
  {
   "cell_type": "code",
   "execution_count": 9,
   "id": "a019eaee-e9e9-4b15-b56e-f5ce46453c0f",
   "metadata": {},
   "outputs": [
    {
     "data": {
      "text/plain": [
       "array([95, 81, 33, 63, 49, 20, 36, 17,  1, 74, 30, 59, 54, 22, 81, 55, 14,\n",
       "       92, 24, 37, 81, 51, 56, 80, 83, 84, 66,  1, 44, 44, 14, 74, 78, 11,\n",
       "       97, 79,  3, 91, 31, 85, 38, 71, 83, 71, 93,  8, 43, 43,  2, 59, 54,\n",
       "       42, 96,  1, 46, 17, 98, 86, 91, 91, 60, 27, 73, 11, 32, 83,  8, 99,\n",
       "        5, 32, 47, 27])"
      ]
     },
     "execution_count": 9,
     "metadata": {},
     "output_type": "execute_result"
    }
   ],
   "source": [
    "a=np.random.randint(1,100,72)\n",
    "a"
   ]
  },
  {
   "cell_type": "code",
   "execution_count": 203,
   "id": "d3cb4c17-e516-4c24-8e20-ea590ad83824",
   "metadata": {},
   "outputs": [
    {
     "data": {
      "text/plain": [
       "array([[48, 70, 93,  7, 66, 37, 85, 37, 45, 54, 79,  5, 87, 44, 20, 97,\n",
       "        38, 31, 63, 45, 44, 36, 28, 51, 59, 29, 32, 16,  6, 53, 56, 57,\n",
       "        48, 69,  5, 19, 43, 18, 91, 73, 47, 12, 28, 28, 60,  8, 42, 66,\n",
       "        54, 73, 36,  4, 22, 43, 68, 71, 57, 80, 96, 23,  1, 57, 76, 31,\n",
       "        34, 15, 91, 23, 47,  7, 63, 31]])"
      ]
     },
     "execution_count": 203,
     "metadata": {},
     "output_type": "execute_result"
    }
   ],
   "source": [
    "a.reshape(1,72)"
   ]
  },
  {
   "cell_type": "code",
   "execution_count": 207,
   "id": "d8c4fbba-a5da-4188-868e-07e0db69c4c0",
   "metadata": {},
   "outputs": [],
   "source": [
    "# a.reshape(72,1)\n"
   ]
  },
  {
   "cell_type": "code",
   "execution_count": 211,
   "id": "2aac9004-381e-4b92-9378-6183eca73769",
   "metadata": {},
   "outputs": [
    {
     "data": {
      "text/plain": [
       "array([[48, 70, 93,  7, 66, 37],\n",
       "       [85, 37, 45, 54, 79,  5],\n",
       "       [87, 44, 20, 97, 38, 31],\n",
       "       [63, 45, 44, 36, 28, 51],\n",
       "       [59, 29, 32, 16,  6, 53],\n",
       "       [56, 57, 48, 69,  5, 19],\n",
       "       [43, 18, 91, 73, 47, 12],\n",
       "       [28, 28, 60,  8, 42, 66],\n",
       "       [54, 73, 36,  4, 22, 43],\n",
       "       [68, 71, 57, 80, 96, 23],\n",
       "       [ 1, 57, 76, 31, 34, 15],\n",
       "       [91, 23, 47,  7, 63, 31]])"
      ]
     },
     "execution_count": 211,
     "metadata": {},
     "output_type": "execute_result"
    }
   ],
   "source": [
    "a.reshape(12,6)"
   ]
  },
  {
   "cell_type": "code",
   "execution_count": 213,
   "id": "561f3050-225e-4c5d-9863-96bc519751e5",
   "metadata": {},
   "outputs": [
    {
     "data": {
      "text/plain": [
       "array([[48, 70, 93,  7, 66, 37, 85, 37, 45, 54, 79,  5],\n",
       "       [87, 44, 20, 97, 38, 31, 63, 45, 44, 36, 28, 51],\n",
       "       [59, 29, 32, 16,  6, 53, 56, 57, 48, 69,  5, 19],\n",
       "       [43, 18, 91, 73, 47, 12, 28, 28, 60,  8, 42, 66],\n",
       "       [54, 73, 36,  4, 22, 43, 68, 71, 57, 80, 96, 23],\n",
       "       [ 1, 57, 76, 31, 34, 15, 91, 23, 47,  7, 63, 31]])"
      ]
     },
     "execution_count": 213,
     "metadata": {},
     "output_type": "execute_result"
    }
   ],
   "source": [
    "a.reshape(6,12)"
   ]
  },
  {
   "cell_type": "code",
   "execution_count": 217,
   "id": "b36a642b-c818-459d-8193-6ce186980a72",
   "metadata": {},
   "outputs": [
    {
     "data": {
      "text/plain": [
       "array([[48, 70, 93,  7, 66, 37, 85, 37, 45, 54, 79,  5, 87, 44, 20, 97,\n",
       "        38, 31, 63, 45, 44, 36, 28, 51, 59, 29, 32, 16,  6, 53, 56, 57,\n",
       "        48, 69,  5, 19],\n",
       "       [43, 18, 91, 73, 47, 12, 28, 28, 60,  8, 42, 66, 54, 73, 36,  4,\n",
       "        22, 43, 68, 71, 57, 80, 96, 23,  1, 57, 76, 31, 34, 15, 91, 23,\n",
       "        47,  7, 63, 31]])"
      ]
     },
     "execution_count": 217,
     "metadata": {},
     "output_type": "execute_result"
    }
   ],
   "source": [
    "a.reshape(2,36)"
   ]
  },
  {
   "cell_type": "code",
   "execution_count": 221,
   "id": "469cc057-a661-4e09-8b30-1834dd607c77",
   "metadata": {},
   "outputs": [],
   "source": [
    "# a.reshape(36,2)"
   ]
  },
  {
   "cell_type": "code",
   "execution_count": 227,
   "id": "881a1150-6682-4e05-90b0-930eb499fa2d",
   "metadata": {},
   "outputs": [
    {
     "data": {
      "text/plain": [
       "array([[48, 70, 93,  7, 66, 37, 85, 37, 45, 54, 79,  5, 87, 44, 20, 97,\n",
       "        38, 31, 63, 45, 44, 36, 28, 51],\n",
       "       [59, 29, 32, 16,  6, 53, 56, 57, 48, 69,  5, 19, 43, 18, 91, 73,\n",
       "        47, 12, 28, 28, 60,  8, 42, 66],\n",
       "       [54, 73, 36,  4, 22, 43, 68, 71, 57, 80, 96, 23,  1, 57, 76, 31,\n",
       "        34, 15, 91, 23, 47,  7, 63, 31]])"
      ]
     },
     "execution_count": 227,
     "metadata": {},
     "output_type": "execute_result"
    }
   ],
   "source": [
    "a.reshape(3,24)"
   ]
  },
  {
   "cell_type": "code",
   "execution_count": 237,
   "id": "04a65976-172b-4858-a689-6887aed1024d",
   "metadata": {},
   "outputs": [
    {
     "data": {
      "text/plain": [
       "array([[48, 70, 93,  7, 66, 37, 85, 37, 45, 54, 79,  5, 87, 44, 20, 97,\n",
       "        38, 31],\n",
       "       [63, 45, 44, 36, 28, 51, 59, 29, 32, 16,  6, 53, 56, 57, 48, 69,\n",
       "         5, 19],\n",
       "       [43, 18, 91, 73, 47, 12, 28, 28, 60,  8, 42, 66, 54, 73, 36,  4,\n",
       "        22, 43],\n",
       "       [68, 71, 57, 80, 96, 23,  1, 57, 76, 31, 34, 15, 91, 23, 47,  7,\n",
       "        63, 31]])"
      ]
     },
     "execution_count": 237,
     "metadata": {},
     "output_type": "execute_result"
    }
   ],
   "source": [
    "a.reshape(4,18)"
   ]
  },
  {
   "cell_type": "code",
   "execution_count": 241,
   "id": "c7f1a23c-d024-45c5-9993-aea58335f6be",
   "metadata": {},
   "outputs": [
    {
     "data": {
      "text/plain": [
       "array([[48, 70, 93,  7, 66, 37, 85, 37, 45, 54, 79,  5],\n",
       "       [87, 44, 20, 97, 38, 31, 63, 45, 44, 36, 28, 51],\n",
       "       [59, 29, 32, 16,  6, 53, 56, 57, 48, 69,  5, 19],\n",
       "       [43, 18, 91, 73, 47, 12, 28, 28, 60,  8, 42, 66],\n",
       "       [54, 73, 36,  4, 22, 43, 68, 71, 57, 80, 96, 23],\n",
       "       [ 1, 57, 76, 31, 34, 15, 91, 23, 47,  7, 63, 31]])"
      ]
     },
     "execution_count": 241,
     "metadata": {},
     "output_type": "execute_result"
    }
   ],
   "source": [
    "a.reshape(6,12)"
   ]
  },
  {
   "cell_type": "code",
   "execution_count": 245,
   "id": "9eb6882a-371d-4074-bb46-8443fd815b74",
   "metadata": {},
   "outputs": [
    {
     "data": {
      "text/plain": [
       "array([[48, 70, 93,  7, 66, 37, 85, 37, 45],\n",
       "       [54, 79,  5, 87, 44, 20, 97, 38, 31],\n",
       "       [63, 45, 44, 36, 28, 51, 59, 29, 32],\n",
       "       [16,  6, 53, 56, 57, 48, 69,  5, 19],\n",
       "       [43, 18, 91, 73, 47, 12, 28, 28, 60],\n",
       "       [ 8, 42, 66, 54, 73, 36,  4, 22, 43],\n",
       "       [68, 71, 57, 80, 96, 23,  1, 57, 76],\n",
       "       [31, 34, 15, 91, 23, 47,  7, 63, 31]])"
      ]
     },
     "execution_count": 245,
     "metadata": {},
     "output_type": "execute_result"
    }
   ],
   "source": [
    "a.reshape(8,9)"
   ]
  },
  {
   "cell_type": "code",
   "execution_count": 247,
   "id": "74e3a88c-36ec-4ebf-b12a-9197d6a74868",
   "metadata": {},
   "outputs": [],
   "source": [
    "# a.reshape()"
   ]
  },
  {
   "cell_type": "code",
   "execution_count": null,
   "id": "364a1b73-61c3-4ee7-a450-07cb93131783",
   "metadata": {},
   "outputs": [],
   "source": [
    "l"
   ]
  }
 ],
 "metadata": {
  "kernelspec": {
   "display_name": "Python 3 (ipykernel)",
   "language": "python",
   "name": "python3"
  },
  "language_info": {
   "codemirror_mode": {
    "name": "ipython",
    "version": 3
   },
   "file_extension": ".py",
   "mimetype": "text/x-python",
   "name": "python",
   "nbconvert_exporter": "python",
   "pygments_lexer": "ipython3",
   "version": "3.12.4"
  }
 },
 "nbformat": 4,
 "nbformat_minor": 5
}
