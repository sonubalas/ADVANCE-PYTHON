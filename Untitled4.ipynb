{
 "cells": [
  {
   "cell_type": "code",
   "execution_count": 1,
   "id": "bdc27545-502f-49ae-8773-9c00707c5266",
   "metadata": {},
   "outputs": [
    {
     "name": "stdout",
     "output_type": "stream",
     "text": [
      "hello world\n"
     ]
    }
   ],
   "source": [
    "print(\"hello world\")"
   ]
  },
  {
   "cell_type": "code",
   "execution_count": 3,
   "id": "d995ccef-7eec-47a2-994b-c40ba625badb",
   "metadata": {},
   "outputs": [],
   "source": [
    "# numpy -->> numpy is an open source library that is use for scientific calculation\n",
    "\n",
    "# why we use numpy\n",
    "# --> Homogeneous data type\n",
    "# --> less momory consume\n",
    "# --> lesss time consume"
   ]
  },
  {
   "cell_type": "code",
   "execution_count": 5,
   "id": "d38fb7ca-6cef-4f6f-a642-cb88f8f03e56",
   "metadata": {},
   "outputs": [],
   "source": [
    "import numpy as np"
   ]
  },
  {
   "cell_type": "code",
   "execution_count": 7,
   "id": "4317a52c-ea38-4f0d-8744-b0c23848f033",
   "metadata": {},
   "outputs": [
    {
     "name": "stdout",
     "output_type": "stream",
     "text": [
      "[1, 23, 34, 45, 56]\n"
     ]
    }
   ],
   "source": [
    "a=[1,23,34,45,56]\n",
    "print(a)"
   ]
  },
  {
   "cell_type": "code",
   "execution_count": 9,
   "id": "b04d8dac-6fa9-4aed-80aa-fc6343ce808e",
   "metadata": {},
   "outputs": [
    {
     "data": {
      "text/plain": [
       "list"
      ]
     },
     "execution_count": 9,
     "metadata": {},
     "output_type": "execute_result"
    }
   ],
   "source": [
    "type(a)"
   ]
  },
  {
   "cell_type": "code",
   "execution_count": 21,
   "id": "e3c34163-7911-42dc-a403-5f7d2714b728",
   "metadata": {},
   "outputs": [
    {
     "data": {
      "text/plain": [
       "array([ 1, 23, 34, 45, 56])"
      ]
     },
     "execution_count": 21,
     "metadata": {},
     "output_type": "execute_result"
    }
   ],
   "source": [
    "b=np.array(a)\n",
    "b"
   ]
  },
  {
   "cell_type": "code",
   "execution_count": 23,
   "id": "a4e6d527-2387-433c-b48e-052cbe86d6b9",
   "metadata": {},
   "outputs": [
    {
     "data": {
      "text/plain": [
       "numpy.ndarray"
      ]
     },
     "execution_count": 23,
     "metadata": {},
     "output_type": "execute_result"
    }
   ],
   "source": [
    "type(b)"
   ]
  },
  {
   "cell_type": "code",
   "execution_count": 25,
   "id": "35056c53-38fd-4015-b063-e019d0dfa0c6",
   "metadata": {},
   "outputs": [],
   "source": [
    "# Dimention->>\n",
    "# 1-D -->> element exist in only x-direction\n",
    "# 2-D -->>element exist in x and y both direction\n",
    "# 3-D ->> element exiset in x, y, z direction"
   ]
  },
  {
   "cell_type": "code",
   "execution_count": 29,
   "id": "44e8ea9a-86d3-47f5-bedc-f27e43ffe084",
   "metadata": {},
   "outputs": [
    {
     "name": "stdout",
     "output_type": "stream",
     "text": [
      "Total shape (5,)\n"
     ]
    }
   ],
   "source": [
    "print(\"Total shape\" , b.shape)   #shape=number(row) ,number(columns)"
   ]
  },
  {
   "cell_type": "code",
   "execution_count": 31,
   "id": "a954f7e0-7ca3-4937-8998-192d7064e0e2",
   "metadata": {},
   "outputs": [
    {
     "name": "stdout",
     "output_type": "stream",
     "text": [
      "Total size 5\n"
     ]
    }
   ],
   "source": [
    "print(\"Total size\",b.size)    #size= number(row)*number(columns)"
   ]
  },
  {
   "cell_type": "code",
   "execution_count": 33,
   "id": "0976c38d-7830-4c28-a52c-0fdae50ab317",
   "metadata": {},
   "outputs": [
    {
     "name": "stdout",
     "output_type": "stream",
     "text": [
      "direction 1\n"
     ]
    }
   ],
   "source": [
    "print(\" Total direction\", b.ndim)    # ndim is refer to dimention "
   ]
  },
  {
   "cell_type": "code",
   "execution_count": 35,
   "id": "8f5b83cf-32d5-4f4d-9cca-81d6f698cc0f",
   "metadata": {},
   "outputs": [
    {
     "data": {
      "text/plain": [
       "([1, 2, 3], [4, 5, 6], [7, 8, 9])"
      ]
     },
     "execution_count": 35,
     "metadata": {},
     "output_type": "execute_result"
    }
   ],
   "source": [
    "a=[1,2,3],[4,5,6] , [7,8,9]\n",
    "a"
   ]
  },
  {
   "cell_type": "code",
   "execution_count": 37,
   "id": "c4af643a-869f-4d8e-bb35-00aea3b34f6d",
   "metadata": {},
   "outputs": [
    {
     "data": {
      "text/plain": [
       "array([[1, 2, 3],\n",
       "       [4, 5, 6],\n",
       "       [7, 8, 9]])"
      ]
     },
     "execution_count": 37,
     "metadata": {},
     "output_type": "execute_result"
    }
   ],
   "source": [
    "b=np.array(a)\n",
    "b"
   ]
  },
  {
   "cell_type": "code",
   "execution_count": 39,
   "id": "b3629194-9f1a-4afe-b569-a39f2841c2b7",
   "metadata": {},
   "outputs": [
    {
     "name": "stdout",
     "output_type": "stream",
     "text": [
      "shape (3, 3)\n"
     ]
    }
   ],
   "source": [
    "print('shape',b.shape)"
   ]
  },
  {
   "cell_type": "code",
   "execution_count": 41,
   "id": "92a7a220-6f8a-45d5-996b-47195eac6f13",
   "metadata": {},
   "outputs": [
    {
     "name": "stdout",
     "output_type": "stream",
     "text": [
      "size 9\n"
     ]
    }
   ],
   "source": [
    "print('size',b.size)"
   ]
  },
  {
   "cell_type": "code",
   "execution_count": 43,
   "id": "b03524fd-135c-4503-807c-208f1eb7f062",
   "metadata": {},
   "outputs": [
    {
     "name": "stdout",
     "output_type": "stream",
     "text": [
      "dimention 2\n"
     ]
    }
   ],
   "source": [
    "print(\"dimention\" , b.ndim)"
   ]
  },
  {
   "cell_type": "code",
   "execution_count": 51,
   "id": "85159105-3e4d-44be-8ff9-1b166bc9baa2",
   "metadata": {},
   "outputs": [
    {
     "name": "stdin",
     "output_type": "stream",
     "text": [
      "enter the size 4\n",
      "enter the shape 12\n",
      "enter the shape 23\n",
      "enter the shape 34\n",
      "enter the shape 45\n"
     ]
    },
    {
     "data": {
      "text/plain": [
       "array([12, 23, 34, 45])"
      ]
     },
     "execution_count": 51,
     "metadata": {},
     "output_type": "execute_result"
    }
   ],
   "source": [
    "# how we can create a user difine array\n",
    "\n",
    "a=[]\n",
    "size=int(input(\"enter the size\"))\n",
    "for i in range(size):\n",
    "    value=int(input(\"enter the shape\"))\n",
    "    a.append(value)\n",
    "b=np.array(a)\n",
    "b"
   ]
  },
  {
   "cell_type": "code",
   "execution_count": 53,
   "id": "5ef77e37-8ed0-4fb2-8eba-bc2ac3e9cf69",
   "metadata": {},
   "outputs": [],
   "source": [
    "# numpy function\n",
    "# 1 -->> zeros -->> it will create a array it will  all the values are zero \n",
    "# 2 -->>  once->  it will create a array it will  all the values are one\n",
    "# 3 -->>  eye->>  it  will create a array it will all the diagonal position value\n",
    "# are one and all rest are zero\n"
   ]
  },
  {
   "cell_type": "code",
   "execution_count": 57,
   "id": "13e1f260-e06a-4400-a868-ff01a477f5db",
   "metadata": {},
   "outputs": [
    {
     "data": {
      "text/plain": [
       "array([0., 0., 0.])"
      ]
     },
     "execution_count": 57,
     "metadata": {},
     "output_type": "execute_result"
    }
   ],
   "source": [
    "a=np.zeros(3)\n",
    "a"
   ]
  },
  {
   "cell_type": "code",
   "execution_count": 59,
   "id": "47c3739c-49fd-4292-9f86-499bf703ac92",
   "metadata": {},
   "outputs": [
    {
     "data": {
      "text/plain": [
       "array([[0., 0., 0., 0.],\n",
       "       [0., 0., 0., 0.]])"
      ]
     },
     "execution_count": 59,
     "metadata": {},
     "output_type": "execute_result"
    }
   ],
   "source": [
    "a=np.zeros((2,4))\n",
    "a"
   ]
  },
  {
   "cell_type": "code",
   "execution_count": 65,
   "id": "154cd1ba-769b-492b-8dc1-735766fb2f96",
   "metadata": {},
   "outputs": [
    {
     "data": {
      "text/plain": [
       "array([1., 1., 1., 1.])"
      ]
     },
     "execution_count": 65,
     "metadata": {},
     "output_type": "execute_result"
    }
   ],
   "source": [
    "a=np.ones(4)\n",
    "a"
   ]
  },
  {
   "cell_type": "code",
   "execution_count": 67,
   "id": "b4b22502-0c63-40e6-a252-f2695c77e54a",
   "metadata": {},
   "outputs": [
    {
     "data": {
      "text/plain": [
       "array([[1., 1., 1., 1., 1.],\n",
       "       [1., 1., 1., 1., 1.],\n",
       "       [1., 1., 1., 1., 1.]])"
      ]
     },
     "execution_count": 67,
     "metadata": {},
     "output_type": "execute_result"
    }
   ],
   "source": [
    "a=np.ones((3,5))\n",
    "a"
   ]
  },
  {
   "cell_type": "code",
   "execution_count": 77,
   "id": "23173567-4379-4437-a241-87b26c84266a",
   "metadata": {},
   "outputs": [],
   "source": [
    "a=np.eye(5)   # Symetric"
   ]
  },
  {
   "cell_type": "code",
   "execution_count": 71,
   "id": "fa4a54c6-2fda-43fb-8a66-e1326634637f",
   "metadata": {},
   "outputs": [
    {
     "data": {
      "text/plain": [
       "array([[1., 0., 0., 0., 0.],\n",
       "       [0., 1., 0., 0., 0.],\n",
       "       [0., 0., 1., 0., 0.],\n",
       "       [0., 0., 0., 1., 0.],\n",
       "       [0., 0., 0., 0., 1.]])"
      ]
     },
     "execution_count": 71,
     "metadata": {},
     "output_type": "execute_result"
    }
   ],
   "source": [
    "a"
   ]
  },
  {
   "cell_type": "code",
   "execution_count": 79,
   "id": "56b99f4b-4f60-4e9c-8ddc-126a381fff75",
   "metadata": {},
   "outputs": [
    {
     "data": {
      "text/plain": [
       "array([[1., 0., 0., 0., 0.],\n",
       "       [0., 1., 0., 0., 0.],\n",
       "       [0., 0., 1., 0., 0.]])"
      ]
     },
     "execution_count": 79,
     "metadata": {},
     "output_type": "execute_result"
    }
   ],
   "source": [
    "a=np.eye(3,5)    # Asymetric\n",
    "a"
   ]
  },
  {
   "cell_type": "code",
   "execution_count": 113,
   "id": "3fcbb559-8622-4249-aed5-8f4985064b1a",
   "metadata": {},
   "outputs": [
    {
     "data": {
      "text/plain": [
       "array([1, 6, 8, 6])"
      ]
     },
     "execution_count": 113,
     "metadata": {},
     "output_type": "execute_result"
    }
   ],
   "source": [
    "a = np.random.randint(1,10,4)\n",
    "a\n"
   ]
  },
  {
   "cell_type": "code",
   "execution_count": 89,
   "id": "5442f906-196e-4eaa-90d4-245da79e1649",
   "metadata": {},
   "outputs": [
    {
     "data": {
      "text/plain": [
       "array([0.11973322, 0.51157852, 0.21468931, 0.74522034, 0.37262986])"
      ]
     },
     "execution_count": 89,
     "metadata": {},
     "output_type": "execute_result"
    }
   ],
   "source": [
    "a=np.random.rand(5)   ## it will return values from 0 to 1\n",
    "a"
   ]
  },
  {
   "cell_type": "code",
   "execution_count": 95,
   "id": "b771b2d4-d527-4049-ae80-a72f137c8599",
   "metadata": {},
   "outputs": [
    {
     "data": {
      "text/plain": [
       "array([-0.07582486,  0.74430197, -0.31199159,  1.79452975])"
      ]
     },
     "execution_count": 95,
     "metadata": {},
     "output_type": "execute_result"
    }
   ],
   "source": [
    "a= np. random.randn(4)   ## it will return valures from -3 to +3\n",
    "a"
   ]
  },
  {
   "cell_type": "code",
   "execution_count": 105,
   "id": "61d1cddd-c1fd-49c1-9d36-d825ec4f07fa",
   "metadata": {},
   "outputs": [
    {
     "data": {
      "text/plain": [
       "array([ 4, 27, 16, 29, 27])"
      ]
     },
     "execution_count": 105,
     "metadata": {},
     "output_type": "execute_result"
    }
   ],
   "source": [
    "np.random.seed(20)   # seed --> it will fix our data once they are created\n",
    "a = np. random.randint(1,30,5)\n",
    "a"
   ]
  },
  {
   "cell_type": "code",
   "execution_count": null,
   "id": "41de555e-a040-4db0-a1ea-90c2f08500b5",
   "metadata": {},
   "outputs": [],
   "source": [
    "# view -->> view means modification in original data\n",
    "\n",
    "# copy -->> copy means modification in duplicate data"
   ]
  },
  {
   "cell_type": "code",
   "execution_count": null,
   "id": "daf26aec-0c2d-47b6-a2c3-62c2bfb05f4e",
   "metadata": {},
   "outputs": [],
   "source": [
    "# Reshaping the data\n",
    "# we know that \n",
    "# n(row)*n(columns) = n(total elements)\n",
    "# if we have total element =12\n",
    "\n",
    "\n",
    "# 1*12 ,12*1,  2*6, 6*2 , 3*4 , 4*3"
   ]
  },
  {
   "cell_type": "raw",
   "id": "35edb964-d734-49ff-8f62-8a5ab2eb17c2",
   "metadata": {},
   "source": []
  },
  {
   "cell_type": "code",
   "execution_count": 116,
   "id": "0586d08f-3700-4db9-9466-7a931d9f5d0b",
   "metadata": {},
   "outputs": [
    {
     "name": "stdout",
     "output_type": "stream",
     "text": [
      "heloo world\n"
     ]
    }
   ],
   "source": [
    "print(\"heloo world\")"
   ]
  },
  {
   "cell_type": "code",
   "execution_count": 118,
   "id": "5d87e61f-d828-45f8-98cd-73f68929f6e8",
   "metadata": {},
   "outputs": [
    {
     "data": {
      "text/plain": [
       "array([35,  7, 27, 14, 12, 59, 26,  4, 11, 12, 14, 20, 58, 31, 47])"
      ]
     },
     "execution_count": 118,
     "metadata": {},
     "output_type": "execute_result"
    }
   ],
   "source": [
    "a=np.random.randint(1,60,15)\n",
    "a"
   ]
  },
  {
   "cell_type": "code",
   "execution_count": 127,
   "id": "520ec43e-6d65-49b6-92f5-625745ff5b0f",
   "metadata": {},
   "outputs": [
    {
     "data": {
      "text/plain": [
       "(15,)"
      ]
     },
     "execution_count": 127,
     "metadata": {},
     "output_type": "execute_result"
    }
   ],
   "source": [
    "a.shape"
   ]
  },
  {
   "cell_type": "code",
   "execution_count": 122,
   "id": "6ac46553-a74d-4c30-9a43-2c6f11fb6f8c",
   "metadata": {},
   "outputs": [
    {
     "data": {
      "text/plain": [
       "15"
      ]
     },
     "execution_count": 122,
     "metadata": {},
     "output_type": "execute_result"
    }
   ],
   "source": [
    "a.size"
   ]
  },
  {
   "cell_type": "code",
   "execution_count": 124,
   "id": "197bd59d-73af-4953-8ab2-5d785f766ad9",
   "metadata": {},
   "outputs": [
    {
     "data": {
      "text/plain": [
       "1"
      ]
     },
     "execution_count": 124,
     "metadata": {},
     "output_type": "execute_result"
    }
   ],
   "source": [
    "a.ndim"
   ]
  },
  {
   "cell_type": "code",
   "execution_count": 143,
   "id": "45719ff8-2bb6-4f49-b4e9-66ac6a16c0ad",
   "metadata": {},
   "outputs": [
    {
     "data": {
      "text/plain": [
       "array([[35],\n",
       "       [ 7],\n",
       "       [27],\n",
       "       [14],\n",
       "       [12],\n",
       "       [59],\n",
       "       [26],\n",
       "       [ 4],\n",
       "       [11],\n",
       "       [12],\n",
       "       [14],\n",
       "       [20],\n",
       "       [58],\n",
       "       [31],\n",
       "       [47]])"
      ]
     },
     "execution_count": 143,
     "metadata": {},
     "output_type": "execute_result"
    }
   ],
   "source": [
    "a.reshape(15,1)"
   ]
  },
  {
   "cell_type": "code",
   "execution_count": 145,
   "id": "2db3e16c-3139-4faf-9504-71efe3af897b",
   "metadata": {},
   "outputs": [
    {
     "data": {
      "text/plain": [
       "array([[35,  7, 27, 14, 12],\n",
       "       [59, 26,  4, 11, 12],\n",
       "       [14, 20, 58, 31, 47]])"
      ]
     },
     "execution_count": 145,
     "metadata": {},
     "output_type": "execute_result"
    }
   ],
   "source": [
    "a.reshape(3,5)\n"
   ]
  },
  {
   "cell_type": "code",
   "execution_count": 147,
   "id": "520a2230-cff9-47f2-a747-0cdc1e3abd5a",
   "metadata": {},
   "outputs": [
    {
     "data": {
      "text/plain": [
       "array([35,  7, 27, 14, 12, 59, 26,  4, 11, 12, 14, 20, 58, 31, 47])"
      ]
     },
     "execution_count": 147,
     "metadata": {},
     "output_type": "execute_result"
    }
   ],
   "source": [
    "b=np.random.randint(1,50,12)\n",
    "a"
   ]
  },
  {
   "cell_type": "code",
   "execution_count": 155,
   "id": "78aac057-8d47-4576-ac02-05a77a621dac",
   "metadata": {},
   "outputs": [
    {
     "data": {
      "text/plain": [
       "(12,)"
      ]
     },
     "execution_count": 155,
     "metadata": {},
     "output_type": "execute_result"
    }
   ],
   "source": [
    "b.shape"
   ]
  },
  {
   "cell_type": "code",
   "execution_count": 159,
   "id": "6603d969-021e-46d9-9bc0-4212d0753af7",
   "metadata": {},
   "outputs": [
    {
     "data": {
      "text/plain": [
       "array([[33, 11, 44,  7, 12, 19,  4, 14, 18, 44, 17, 19]])"
      ]
     },
     "execution_count": 159,
     "metadata": {},
     "output_type": "execute_result"
    }
   ],
   "source": [
    "b.reshape(1,12)"
   ]
  },
  {
   "cell_type": "code",
   "execution_count": 161,
   "id": "020e3e94-e6fe-46e9-b19f-572ac5329fe9",
   "metadata": {},
   "outputs": [
    {
     "data": {
      "text/plain": [
       "array([[33, 11],\n",
       "       [44,  7],\n",
       "       [12, 19],\n",
       "       [ 4, 14],\n",
       "       [18, 44],\n",
       "       [17, 19]])"
      ]
     },
     "execution_count": 161,
     "metadata": {},
     "output_type": "execute_result"
    }
   ],
   "source": [
    "b.reshape(6,2)"
   ]
  },
  {
   "cell_type": "code",
   "execution_count": 163,
   "id": "326338da-86d2-461e-86ea-13304bc211dd",
   "metadata": {},
   "outputs": [
    {
     "data": {
      "text/plain": [
       "array([[33, 11, 44,  7],\n",
       "       [12, 19,  4, 14],\n",
       "       [18, 44, 17, 19]])"
      ]
     },
     "execution_count": 163,
     "metadata": {},
     "output_type": "execute_result"
    }
   ],
   "source": [
    "b.reshape(3,4)"
   ]
  },
  {
   "cell_type": "code",
   "execution_count": null,
   "id": "e965edac-f297-4a87-bba4-8209fde3bf48",
   "metadata": {},
   "outputs": [],
   "source": []
  }
 ],
 "metadata": {
  "kernelspec": {
   "display_name": "Python 3 (ipykernel)",
   "language": "python",
   "name": "python3"
  },
  "language_info": {
   "codemirror_mode": {
    "name": "ipython",
    "version": 3
   },
   "file_extension": ".py",
   "mimetype": "text/x-python",
   "name": "python",
   "nbconvert_exporter": "python",
   "pygments_lexer": "ipython3",
   "version": "3.12.4"
  }
 },
 "nbformat": 4,
 "nbformat_minor": 5
}
